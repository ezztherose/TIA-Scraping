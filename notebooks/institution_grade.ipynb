{
 "cells": [
  {
   "cell_type": "code",
   "execution_count": 41,
   "metadata": {},
   "outputs": [],
   "source": [
    "import numpy as np\n",
    "import pandas as pd\n",
    "import matplotlib.pyplot as plt\n",
    "\n",
    "import sys\n",
    "sys.path.append(\"../src/utility/\")\n",
    "from utility import plot_settings\n",
    "from utility import visualization\n",
    "from utility import data_base as data"
   ]
  },
  {
   "cell_type": "code",
   "execution_count": 42,
   "metadata": {},
   "outputs": [
    {
     "name": "stdout",
     "output_type": "stream",
     "text": [
      "Raw data file: 1302102\n",
      "rows after droppped Nan: 332061\n"
     ]
    }
   ],
   "source": [
    "df_raw = data.read_csv('../data/cc_institution_grads.csv')\n",
    "print(f'Raw data file: {len(df_raw)}')\n",
    "df_drop_na = df_raw.dropna()\n",
    "print(f\"rows after droppped Nan: {len(df_drop_na)}\")\n",
    "df = df_drop_na.copy()"
   ]
  },
  {
   "attachments": {},
   "cell_type": "markdown",
   "metadata": {},
   "source": [
    "### Institution info"
   ]
  },
  {
   "cell_type": "code",
   "execution_count": 43,
   "metadata": {},
   "outputs": [
    {
     "data": {
      "text/html": [
       "<div>\n",
       "<style scoped>\n",
       "    .dataframe tbody tr th:only-of-type {\n",
       "        vertical-align: middle;\n",
       "    }\n",
       "\n",
       "    .dataframe tbody tr th {\n",
       "        vertical-align: top;\n",
       "    }\n",
       "\n",
       "    .dataframe thead th {\n",
       "        text-align: right;\n",
       "    }\n",
       "</style>\n",
       "<table border=\"1\" class=\"dataframe\">\n",
       "  <thead>\n",
       "    <tr style=\"text-align: right;\">\n",
       "      <th></th>\n",
       "      <th>unitid</th>\n",
       "      <th>chronname</th>\n",
       "      <th>city</th>\n",
       "      <th>state</th>\n",
       "      <th>level</th>\n",
       "      <th>control</th>\n",
       "      <th>basic</th>\n",
       "      <th>hbcu</th>\n",
       "      <th>flagship</th>\n",
       "      <th>long_x</th>\n",
       "      <th>...</th>\n",
       "      <th>vsa_grad_after6_transfer</th>\n",
       "      <th>vsa_grad_elsewhere_after6_transfer</th>\n",
       "      <th>vsa_enroll_after6_transfer</th>\n",
       "      <th>vsa_enroll_elsewhere_after6_transfer</th>\n",
       "      <th>similar</th>\n",
       "      <th>state_sector_ct</th>\n",
       "      <th>carnegie_ct</th>\n",
       "      <th>counted_pct</th>\n",
       "      <th>nicknames</th>\n",
       "      <th>cohort_size</th>\n",
       "    </tr>\n",
       "  </thead>\n",
       "  <tbody>\n",
       "    <tr>\n",
       "      <th>0</th>\n",
       "      <td>100654</td>\n",
       "      <td>Alabama A&amp;M University</td>\n",
       "      <td>Normal</td>\n",
       "      <td>Alabama</td>\n",
       "      <td>4-year</td>\n",
       "      <td>Public</td>\n",
       "      <td>Masters Colleges and Universities--larger prog...</td>\n",
       "      <td>X</td>\n",
       "      <td>NaN</td>\n",
       "      <td>-86.568502</td>\n",
       "      <td>...</td>\n",
       "      <td>36.4</td>\n",
       "      <td>5.6</td>\n",
       "      <td>17.2</td>\n",
       "      <td>11.1</td>\n",
       "      <td>232937|100724|405997|113607|139533|144005|2285...</td>\n",
       "      <td>13</td>\n",
       "      <td>386</td>\n",
       "      <td>99.7|07</td>\n",
       "      <td>NaN</td>\n",
       "      <td>882.0</td>\n",
       "    </tr>\n",
       "    <tr>\n",
       "      <th>1</th>\n",
       "      <td>100663</td>\n",
       "      <td>University of Alabama at Birmingham</td>\n",
       "      <td>Birmingham</td>\n",
       "      <td>Alabama</td>\n",
       "      <td>4-year</td>\n",
       "      <td>Public</td>\n",
       "      <td>Research Universities--very high research acti...</td>\n",
       "      <td>NaN</td>\n",
       "      <td>NaN</td>\n",
       "      <td>-86.809170</td>\n",
       "      <td>...</td>\n",
       "      <td>NaN</td>\n",
       "      <td>NaN</td>\n",
       "      <td>NaN</td>\n",
       "      <td>NaN</td>\n",
       "      <td>196060|180461|201885|145600|209542|236939|1268...</td>\n",
       "      <td>13</td>\n",
       "      <td>106</td>\n",
       "      <td>56.0|07</td>\n",
       "      <td>UAB</td>\n",
       "      <td>1376.0</td>\n",
       "    </tr>\n",
       "    <tr>\n",
       "      <th>2</th>\n",
       "      <td>100690</td>\n",
       "      <td>Amridge University</td>\n",
       "      <td>Montgomery</td>\n",
       "      <td>Alabama</td>\n",
       "      <td>4-year</td>\n",
       "      <td>Private not-for-profit</td>\n",
       "      <td>Baccalaureate Colleges--Arts &amp; Sciences</td>\n",
       "      <td>NaN</td>\n",
       "      <td>NaN</td>\n",
       "      <td>-86.174010</td>\n",
       "      <td>...</td>\n",
       "      <td>NaN</td>\n",
       "      <td>NaN</td>\n",
       "      <td>NaN</td>\n",
       "      <td>NaN</td>\n",
       "      <td>217925|441511|205124|247825|197647|221856|1353...</td>\n",
       "      <td>16</td>\n",
       "      <td>252</td>\n",
       "      <td>100.0|07</td>\n",
       "      <td>NaN</td>\n",
       "      <td>3.0</td>\n",
       "    </tr>\n",
       "    <tr>\n",
       "      <th>3</th>\n",
       "      <td>100706</td>\n",
       "      <td>University of Alabama at Huntsville</td>\n",
       "      <td>Huntsville</td>\n",
       "      <td>Alabama</td>\n",
       "      <td>4-year</td>\n",
       "      <td>Public</td>\n",
       "      <td>Research Universities--very high research acti...</td>\n",
       "      <td>NaN</td>\n",
       "      <td>NaN</td>\n",
       "      <td>-86.638420</td>\n",
       "      <td>...</td>\n",
       "      <td>0.0</td>\n",
       "      <td>0.0</td>\n",
       "      <td>0.0</td>\n",
       "      <td>0.0</td>\n",
       "      <td>232186|133881|196103|196413|207388|171128|1900...</td>\n",
       "      <td>13</td>\n",
       "      <td>106</td>\n",
       "      <td>43.1|07</td>\n",
       "      <td>UAH</td>\n",
       "      <td>759.0</td>\n",
       "    </tr>\n",
       "    <tr>\n",
       "      <th>4</th>\n",
       "      <td>100724</td>\n",
       "      <td>Alabama State University</td>\n",
       "      <td>Montgomery</td>\n",
       "      <td>Alabama</td>\n",
       "      <td>4-year</td>\n",
       "      <td>Public</td>\n",
       "      <td>Masters Colleges and Universities--larger prog...</td>\n",
       "      <td>X</td>\n",
       "      <td>NaN</td>\n",
       "      <td>-86.295677</td>\n",
       "      <td>...</td>\n",
       "      <td>NaN</td>\n",
       "      <td>NaN</td>\n",
       "      <td>NaN</td>\n",
       "      <td>NaN</td>\n",
       "      <td>100654|232937|242617|243197|144005|241739|2354...</td>\n",
       "      <td>13</td>\n",
       "      <td>386</td>\n",
       "      <td>88.0|07</td>\n",
       "      <td>ASU</td>\n",
       "      <td>1351.0</td>\n",
       "    </tr>\n",
       "  </tbody>\n",
       "</table>\n",
       "<p>5 rows × 62 columns</p>\n",
       "</div>"
      ],
      "text/plain": [
       "   unitid                            chronname        city    state   level  \\\n",
       "0  100654               Alabama A&M University      Normal  Alabama  4-year   \n",
       "1  100663  University of Alabama at Birmingham  Birmingham  Alabama  4-year   \n",
       "2  100690                   Amridge University  Montgomery  Alabama  4-year   \n",
       "3  100706  University of Alabama at Huntsville  Huntsville  Alabama  4-year   \n",
       "4  100724             Alabama State University  Montgomery  Alabama  4-year   \n",
       "\n",
       "                  control                                              basic  \\\n",
       "0                  Public  Masters Colleges and Universities--larger prog...   \n",
       "1                  Public  Research Universities--very high research acti...   \n",
       "2  Private not-for-profit            Baccalaureate Colleges--Arts & Sciences   \n",
       "3                  Public  Research Universities--very high research acti...   \n",
       "4                  Public  Masters Colleges and Universities--larger prog...   \n",
       "\n",
       "  hbcu flagship     long_x  ...  vsa_grad_after6_transfer  \\\n",
       "0    X      NaN -86.568502  ...                      36.4   \n",
       "1  NaN      NaN -86.809170  ...                       NaN   \n",
       "2  NaN      NaN -86.174010  ...                       NaN   \n",
       "3  NaN      NaN -86.638420  ...                       0.0   \n",
       "4    X      NaN -86.295677  ...                       NaN   \n",
       "\n",
       "  vsa_grad_elsewhere_after6_transfer  vsa_enroll_after6_transfer  \\\n",
       "0                                5.6                        17.2   \n",
       "1                                NaN                         NaN   \n",
       "2                                NaN                         NaN   \n",
       "3                                0.0                         0.0   \n",
       "4                                NaN                         NaN   \n",
       "\n",
       "   vsa_enroll_elsewhere_after6_transfer  \\\n",
       "0                                  11.1   \n",
       "1                                   NaN   \n",
       "2                                   NaN   \n",
       "3                                   0.0   \n",
       "4                                   NaN   \n",
       "\n",
       "                                             similar  state_sector_ct  \\\n",
       "0  232937|100724|405997|113607|139533|144005|2285...               13   \n",
       "1  196060|180461|201885|145600|209542|236939|1268...               13   \n",
       "2  217925|441511|205124|247825|197647|221856|1353...               16   \n",
       "3  232186|133881|196103|196413|207388|171128|1900...               13   \n",
       "4  100654|232937|242617|243197|144005|241739|2354...               13   \n",
       "\n",
       "   carnegie_ct  counted_pct  nicknames  cohort_size  \n",
       "0          386      99.7|07        NaN        882.0  \n",
       "1          106      56.0|07        UAB       1376.0  \n",
       "2          252     100.0|07        NaN          3.0  \n",
       "3          106      43.1|07        UAH        759.0  \n",
       "4          386      88.0|07        ASU       1351.0  \n",
       "\n",
       "[5 rows x 62 columns]"
      ]
     },
     "execution_count": 43,
     "metadata": {},
     "output_type": "execute_result"
    }
   ],
   "source": [
    "df_institution = pd.read_csv('../data/cc_institution_details.csv', encoding = \"ISO-8859-1\")\n",
    "df_institution.head()"
   ]
  },
  {
   "attachments": {},
   "cell_type": "markdown",
   "metadata": {},
   "source": [
    "### Comapre the raw data vs clean data"
   ]
  },
  {
   "cell_type": "code",
   "execution_count": 44,
   "metadata": {},
   "outputs": [
    {
     "data": {
      "text/html": [
       "<div>\n",
       "<style scoped>\n",
       "    .dataframe tbody tr th:only-of-type {\n",
       "        vertical-align: middle;\n",
       "    }\n",
       "\n",
       "    .dataframe tbody tr th {\n",
       "        vertical-align: top;\n",
       "    }\n",
       "\n",
       "    .dataframe thead th {\n",
       "        text-align: right;\n",
       "    }\n",
       "</style>\n",
       "<table border=\"1\" class=\"dataframe\">\n",
       "  <thead>\n",
       "    <tr style=\"text-align: right;\">\n",
       "      <th></th>\n",
       "      <th>unitid</th>\n",
       "      <th>year</th>\n",
       "      <th>gender</th>\n",
       "      <th>race</th>\n",
       "      <th>cohort</th>\n",
       "      <th>grad_cohort</th>\n",
       "      <th>grad_100</th>\n",
       "      <th>grad_150</th>\n",
       "      <th>grad_100_rate</th>\n",
       "      <th>grad_150_rate</th>\n",
       "    </tr>\n",
       "  </thead>\n",
       "  <tbody>\n",
       "    <tr>\n",
       "      <th>0</th>\n",
       "      <td>100760</td>\n",
       "      <td>2011</td>\n",
       "      <td>B</td>\n",
       "      <td>X</td>\n",
       "      <td>2y all</td>\n",
       "      <td>446.0</td>\n",
       "      <td>73.0</td>\n",
       "      <td>105.0</td>\n",
       "      <td>16.4</td>\n",
       "      <td>23.5</td>\n",
       "    </tr>\n",
       "    <tr>\n",
       "      <th>1</th>\n",
       "      <td>100760</td>\n",
       "      <td>2011</td>\n",
       "      <td>M</td>\n",
       "      <td>X</td>\n",
       "      <td>2y all</td>\n",
       "      <td>185.0</td>\n",
       "      <td>NaN</td>\n",
       "      <td>40.0</td>\n",
       "      <td>NaN</td>\n",
       "      <td>21.6</td>\n",
       "    </tr>\n",
       "    <tr>\n",
       "      <th>2</th>\n",
       "      <td>100760</td>\n",
       "      <td>2011</td>\n",
       "      <td>F</td>\n",
       "      <td>X</td>\n",
       "      <td>2y all</td>\n",
       "      <td>261.0</td>\n",
       "      <td>NaN</td>\n",
       "      <td>65.0</td>\n",
       "      <td>NaN</td>\n",
       "      <td>24.9</td>\n",
       "    </tr>\n",
       "    <tr>\n",
       "      <th>3</th>\n",
       "      <td>100760</td>\n",
       "      <td>2011</td>\n",
       "      <td>B</td>\n",
       "      <td>W</td>\n",
       "      <td>2y all</td>\n",
       "      <td>348.0</td>\n",
       "      <td>NaN</td>\n",
       "      <td>86.0</td>\n",
       "      <td>NaN</td>\n",
       "      <td>24.7</td>\n",
       "    </tr>\n",
       "    <tr>\n",
       "      <th>4</th>\n",
       "      <td>100760</td>\n",
       "      <td>2011</td>\n",
       "      <td>M</td>\n",
       "      <td>W</td>\n",
       "      <td>2y all</td>\n",
       "      <td>162.0</td>\n",
       "      <td>NaN</td>\n",
       "      <td>35.0</td>\n",
       "      <td>NaN</td>\n",
       "      <td>21.6</td>\n",
       "    </tr>\n",
       "  </tbody>\n",
       "</table>\n",
       "</div>"
      ],
      "text/plain": [
       "   unitid  year gender race  cohort  grad_cohort  grad_100  grad_150  \\\n",
       "0  100760  2011      B    X  2y all        446.0      73.0     105.0   \n",
       "1  100760  2011      M    X  2y all        185.0       NaN      40.0   \n",
       "2  100760  2011      F    X  2y all        261.0       NaN      65.0   \n",
       "3  100760  2011      B    W  2y all        348.0       NaN      86.0   \n",
       "4  100760  2011      M    W  2y all        162.0       NaN      35.0   \n",
       "\n",
       "   grad_100_rate  grad_150_rate  \n",
       "0           16.4           23.5  \n",
       "1            NaN           21.6  \n",
       "2            NaN           24.9  \n",
       "3            NaN           24.7  \n",
       "4            NaN           21.6  "
      ]
     },
     "execution_count": 44,
     "metadata": {},
     "output_type": "execute_result"
    }
   ],
   "source": [
    "df_raw.head()"
   ]
  },
  {
   "cell_type": "code",
   "execution_count": 45,
   "metadata": {},
   "outputs": [
    {
     "data": {
      "text/html": [
       "<div>\n",
       "<style scoped>\n",
       "    .dataframe tbody tr th:only-of-type {\n",
       "        vertical-align: middle;\n",
       "    }\n",
       "\n",
       "    .dataframe tbody tr th {\n",
       "        vertical-align: top;\n",
       "    }\n",
       "\n",
       "    .dataframe thead th {\n",
       "        text-align: right;\n",
       "    }\n",
       "</style>\n",
       "<table border=\"1\" class=\"dataframe\">\n",
       "  <thead>\n",
       "    <tr style=\"text-align: right;\">\n",
       "      <th></th>\n",
       "      <th>unitid</th>\n",
       "      <th>year</th>\n",
       "      <th>gender</th>\n",
       "      <th>race</th>\n",
       "      <th>cohort</th>\n",
       "      <th>grad_cohort</th>\n",
       "      <th>grad_100</th>\n",
       "      <th>grad_150</th>\n",
       "      <th>grad_100_rate</th>\n",
       "      <th>grad_150_rate</th>\n",
       "    </tr>\n",
       "  </thead>\n",
       "  <tbody>\n",
       "    <tr>\n",
       "      <th>0</th>\n",
       "      <td>100760</td>\n",
       "      <td>2011</td>\n",
       "      <td>B</td>\n",
       "      <td>X</td>\n",
       "      <td>2y all</td>\n",
       "      <td>446.0</td>\n",
       "      <td>73.0</td>\n",
       "      <td>105.0</td>\n",
       "      <td>16.4</td>\n",
       "      <td>23.5</td>\n",
       "    </tr>\n",
       "    <tr>\n",
       "      <th>18</th>\n",
       "      <td>100760</td>\n",
       "      <td>2012</td>\n",
       "      <td>B</td>\n",
       "      <td>X</td>\n",
       "      <td>2y all</td>\n",
       "      <td>594.0</td>\n",
       "      <td>40.0</td>\n",
       "      <td>87.0</td>\n",
       "      <td>6.7</td>\n",
       "      <td>14.6</td>\n",
       "    </tr>\n",
       "    <tr>\n",
       "      <th>36</th>\n",
       "      <td>100760</td>\n",
       "      <td>2013</td>\n",
       "      <td>B</td>\n",
       "      <td>X</td>\n",
       "      <td>2y all</td>\n",
       "      <td>594.0</td>\n",
       "      <td>46.0</td>\n",
       "      <td>54.0</td>\n",
       "      <td>7.7</td>\n",
       "      <td>9.1</td>\n",
       "    </tr>\n",
       "    <tr>\n",
       "      <th>54</th>\n",
       "      <td>101028</td>\n",
       "      <td>2011</td>\n",
       "      <td>B</td>\n",
       "      <td>X</td>\n",
       "      <td>2y all</td>\n",
       "      <td>261.0</td>\n",
       "      <td>25.0</td>\n",
       "      <td>42.0</td>\n",
       "      <td>9.6</td>\n",
       "      <td>16.1</td>\n",
       "    </tr>\n",
       "    <tr>\n",
       "      <th>72</th>\n",
       "      <td>101028</td>\n",
       "      <td>2012</td>\n",
       "      <td>B</td>\n",
       "      <td>X</td>\n",
       "      <td>2y all</td>\n",
       "      <td>281.0</td>\n",
       "      <td>41.0</td>\n",
       "      <td>41.0</td>\n",
       "      <td>14.6</td>\n",
       "      <td>14.6</td>\n",
       "    </tr>\n",
       "  </tbody>\n",
       "</table>\n",
       "</div>"
      ],
      "text/plain": [
       "    unitid  year gender race  cohort  grad_cohort  grad_100  grad_150  \\\n",
       "0   100760  2011      B    X  2y all        446.0      73.0     105.0   \n",
       "18  100760  2012      B    X  2y all        594.0      40.0      87.0   \n",
       "36  100760  2013      B    X  2y all        594.0      46.0      54.0   \n",
       "54  101028  2011      B    X  2y all        261.0      25.0      42.0   \n",
       "72  101028  2012      B    X  2y all        281.0      41.0      41.0   \n",
       "\n",
       "    grad_100_rate  grad_150_rate  \n",
       "0            16.4           23.5  \n",
       "18            6.7           14.6  \n",
       "36            7.7            9.1  \n",
       "54            9.6           16.1  \n",
       "72           14.6           14.6  "
      ]
     },
     "execution_count": 45,
     "metadata": {},
     "output_type": "execute_result"
    }
   ],
   "source": [
    "df.head()"
   ]
  },
  {
   "attachments": {},
   "cell_type": "markdown",
   "metadata": {},
   "source": [
    "### Shortcut descriptions"
   ]
  },
  {
   "cell_type": "code",
   "execution_count": 46,
   "metadata": {},
   "outputs": [
    {
     "data": {
      "text/plain": [
       "'\\ngrad_100: finnishing in timeframe of the programme\\ngrad_100_rate: same as above in procent\\n\\ngrad_150: 1.5x time study speed\\ngrad_150_rate: same as above in procent\\n\\ngrad_cohort: \\n    Number of first-time, \\n    full-time, \\n    degree-seeking students in the cohort being tracked, \\n    minus any exclusions\\n'"
      ]
     },
     "execution_count": 46,
     "metadata": {},
     "output_type": "execute_result"
    }
   ],
   "source": [
    "# Descriptions for the different shortcuts\n",
    "\n",
    "\"\"\"\n",
    "cohort\n",
    "-----------\n",
    "degree-seeking cohort type \n",
    "    ('4y bach' = Bachelor's/equivalent-seeking cohort at 4-year institutions; \n",
    "    '4y other' = Students seeking another type of degree or certificate at a 4-year institution; \n",
    "    '2y all' = Degree-seeking students at 2-year institutions)\n",
    "\n",
    "race/ethnicity of students \n",
    "    ('X' = all students; \n",
    "    'Ai' = American Indian; \n",
    "    'A' = Asian; \n",
    "    'B' = Black; \n",
    "    'H' = Hispanic; \n",
    "    'W' = White)\n",
    "\"\"\"\n",
    "\n",
    "\"\"\"\n",
    "grad_100: finnishing in timeframe of the programme\n",
    "grad_100_rate: same as above in procent\n",
    "\n",
    "grad_150: 1.5x time study speed\n",
    "grad_150_rate: same as above in procent\n",
    "\n",
    "grad_cohort: \n",
    "    Number of first-time, \n",
    "    full-time, \n",
    "    degree-seeking students in the cohort being tracked, \n",
    "    minus any exclusions\n",
    "\"\"\"\n"
   ]
  },
  {
   "attachments": {},
   "cell_type": "markdown",
   "metadata": {},
   "source": [
    "### Find unique values"
   ]
  },
  {
   "cell_type": "code",
   "execution_count": 47,
   "metadata": {},
   "outputs": [
    {
     "name": "stdout",
     "output_type": "stream",
     "text": [
      "[2011 2012 2013 2010 2009 2008 2007 2006 2005 2004 2003 2002]\n",
      "['B' 'M' 'F']\n",
      "['X' 'W' 'B' 'H' 'Ai' 'A']\n",
      "['2y all' '4y bach' '4y other']\n"
     ]
    }
   ],
   "source": [
    "print(df['year'].unique())\n",
    "print(df['gender'].unique())\n",
    "print(df['race'].unique())\n",
    "print(df['cohort'].unique())"
   ]
  },
  {
   "cell_type": "code",
   "execution_count": 48,
   "metadata": {},
   "outputs": [],
   "source": [
    "df_clean = df[['unitid', 'year', 'gender', 'race', 'grad_100', 'grad_150', 'grad_100_rate', 'grad_150_rate']].copy()\n",
    "df_clean_f = df_clean[df_clean['gender'] == 'F']\n",
    "df_clean_m = df_clean[df_clean['gender'] == 'M']"
   ]
  },
  {
   "cell_type": "code",
   "execution_count": 49,
   "metadata": {},
   "outputs": [],
   "source": [
    "df_2011 = df_clean[df_clean['year'] == 2011]"
   ]
  },
  {
   "cell_type": "code",
   "execution_count": 50,
   "metadata": {},
   "outputs": [
    {
     "data": {
      "text/html": [
       "<div>\n",
       "<style scoped>\n",
       "    .dataframe tbody tr th:only-of-type {\n",
       "        vertical-align: middle;\n",
       "    }\n",
       "\n",
       "    .dataframe tbody tr th {\n",
       "        vertical-align: top;\n",
       "    }\n",
       "\n",
       "    .dataframe thead th {\n",
       "        text-align: right;\n",
       "    }\n",
       "</style>\n",
       "<table border=\"1\" class=\"dataframe\">\n",
       "  <thead>\n",
       "    <tr style=\"text-align: right;\">\n",
       "      <th></th>\n",
       "      <th>unitid</th>\n",
       "      <th>year</th>\n",
       "      <th>gender</th>\n",
       "      <th>race</th>\n",
       "      <th>grad_100</th>\n",
       "      <th>grad_150</th>\n",
       "      <th>grad_100_rate</th>\n",
       "      <th>grad_150_rate</th>\n",
       "    </tr>\n",
       "  </thead>\n",
       "  <tbody>\n",
       "    <tr>\n",
       "      <th>0</th>\n",
       "      <td>100760</td>\n",
       "      <td>2011</td>\n",
       "      <td>B</td>\n",
       "      <td>X</td>\n",
       "      <td>73.0</td>\n",
       "      <td>105.0</td>\n",
       "      <td>16.4</td>\n",
       "      <td>23.5</td>\n",
       "    </tr>\n",
       "    <tr>\n",
       "      <th>54</th>\n",
       "      <td>101028</td>\n",
       "      <td>2011</td>\n",
       "      <td>B</td>\n",
       "      <td>X</td>\n",
       "      <td>25.0</td>\n",
       "      <td>42.0</td>\n",
       "      <td>9.6</td>\n",
       "      <td>16.1</td>\n",
       "    </tr>\n",
       "    <tr>\n",
       "      <th>108</th>\n",
       "      <td>101143</td>\n",
       "      <td>2011</td>\n",
       "      <td>B</td>\n",
       "      <td>X</td>\n",
       "      <td>126.0</td>\n",
       "      <td>174.0</td>\n",
       "      <td>27.3</td>\n",
       "      <td>37.7</td>\n",
       "    </tr>\n",
       "    <tr>\n",
       "      <th>162</th>\n",
       "      <td>101161</td>\n",
       "      <td>2011</td>\n",
       "      <td>B</td>\n",
       "      <td>X</td>\n",
       "      <td>118.0</td>\n",
       "      <td>129.0</td>\n",
       "      <td>13.6</td>\n",
       "      <td>14.9</td>\n",
       "    </tr>\n",
       "    <tr>\n",
       "      <th>216</th>\n",
       "      <td>101240</td>\n",
       "      <td>2011</td>\n",
       "      <td>B</td>\n",
       "      <td>X</td>\n",
       "      <td>156.0</td>\n",
       "      <td>228.0</td>\n",
       "      <td>11.9</td>\n",
       "      <td>17.4</td>\n",
       "    </tr>\n",
       "    <tr>\n",
       "      <th>...</th>\n",
       "      <td>...</td>\n",
       "      <td>...</td>\n",
       "      <td>...</td>\n",
       "      <td>...</td>\n",
       "      <td>...</td>\n",
       "      <td>...</td>\n",
       "      <td>...</td>\n",
       "      <td>...</td>\n",
       "    </tr>\n",
       "    <tr>\n",
       "      <th>331356</th>\n",
       "      <td>475291</td>\n",
       "      <td>2011</td>\n",
       "      <td>B</td>\n",
       "      <td>Ai</td>\n",
       "      <td>0.0</td>\n",
       "      <td>0.0</td>\n",
       "      <td>0.0</td>\n",
       "      <td>0.0</td>\n",
       "    </tr>\n",
       "    <tr>\n",
       "      <th>331357</th>\n",
       "      <td>475291</td>\n",
       "      <td>2011</td>\n",
       "      <td>M</td>\n",
       "      <td>Ai</td>\n",
       "      <td>0.0</td>\n",
       "      <td>0.0</td>\n",
       "      <td>0.0</td>\n",
       "      <td>0.0</td>\n",
       "    </tr>\n",
       "    <tr>\n",
       "      <th>331359</th>\n",
       "      <td>475291</td>\n",
       "      <td>2011</td>\n",
       "      <td>B</td>\n",
       "      <td>A</td>\n",
       "      <td>0.0</td>\n",
       "      <td>0.0</td>\n",
       "      <td>0.0</td>\n",
       "      <td>0.0</td>\n",
       "    </tr>\n",
       "    <tr>\n",
       "      <th>331360</th>\n",
       "      <td>475291</td>\n",
       "      <td>2011</td>\n",
       "      <td>M</td>\n",
       "      <td>A</td>\n",
       "      <td>0.0</td>\n",
       "      <td>0.0</td>\n",
       "      <td>0.0</td>\n",
       "      <td>0.0</td>\n",
       "    </tr>\n",
       "    <tr>\n",
       "      <th>331361</th>\n",
       "      <td>475291</td>\n",
       "      <td>2011</td>\n",
       "      <td>F</td>\n",
       "      <td>A</td>\n",
       "      <td>0.0</td>\n",
       "      <td>0.0</td>\n",
       "      <td>0.0</td>\n",
       "      <td>0.0</td>\n",
       "    </tr>\n",
       "  </tbody>\n",
       "</table>\n",
       "<p>30251 rows × 8 columns</p>\n",
       "</div>"
      ],
      "text/plain": [
       "        unitid  year gender race  grad_100  grad_150  grad_100_rate  \\\n",
       "0       100760  2011      B    X      73.0     105.0           16.4   \n",
       "54      101028  2011      B    X      25.0      42.0            9.6   \n",
       "108     101143  2011      B    X     126.0     174.0           27.3   \n",
       "162     101161  2011      B    X     118.0     129.0           13.6   \n",
       "216     101240  2011      B    X     156.0     228.0           11.9   \n",
       "...        ...   ...    ...  ...       ...       ...            ...   \n",
       "331356  475291  2011      B   Ai       0.0       0.0            0.0   \n",
       "331357  475291  2011      M   Ai       0.0       0.0            0.0   \n",
       "331359  475291  2011      B    A       0.0       0.0            0.0   \n",
       "331360  475291  2011      M    A       0.0       0.0            0.0   \n",
       "331361  475291  2011      F    A       0.0       0.0            0.0   \n",
       "\n",
       "        grad_150_rate  \n",
       "0                23.5  \n",
       "54               16.1  \n",
       "108              37.7  \n",
       "162              14.9  \n",
       "216              17.4  \n",
       "...               ...  \n",
       "331356            0.0  \n",
       "331357            0.0  \n",
       "331359            0.0  \n",
       "331360            0.0  \n",
       "331361            0.0  \n",
       "\n",
       "[30251 rows x 8 columns]"
      ]
     },
     "execution_count": 50,
     "metadata": {},
     "output_type": "execute_result"
    }
   ],
   "source": [
    "df_2011"
   ]
  },
  {
   "cell_type": "code",
   "execution_count": 51,
   "metadata": {},
   "outputs": [
    {
     "data": {
      "text/html": [
       "<div>\n",
       "<style scoped>\n",
       "    .dataframe tbody tr th:only-of-type {\n",
       "        vertical-align: middle;\n",
       "    }\n",
       "\n",
       "    .dataframe tbody tr th {\n",
       "        vertical-align: top;\n",
       "    }\n",
       "\n",
       "    .dataframe thead th {\n",
       "        text-align: right;\n",
       "    }\n",
       "</style>\n",
       "<table border=\"1\" class=\"dataframe\">\n",
       "  <thead>\n",
       "    <tr style=\"text-align: right;\">\n",
       "      <th></th>\n",
       "      <th>unitid</th>\n",
       "      <th>year</th>\n",
       "      <th>gender</th>\n",
       "      <th>race</th>\n",
       "      <th>grad_100</th>\n",
       "      <th>grad_150</th>\n",
       "      <th>grad_100_rate</th>\n",
       "      <th>grad_150_rate</th>\n",
       "    </tr>\n",
       "  </thead>\n",
       "  <tbody>\n",
       "    <tr>\n",
       "      <th>205093</th>\n",
       "      <td>100654</td>\n",
       "      <td>2011</td>\n",
       "      <td>M</td>\n",
       "      <td>X</td>\n",
       "      <td>27.0</td>\n",
       "      <td>130.0</td>\n",
       "      <td>5.2</td>\n",
       "      <td>25.2</td>\n",
       "    </tr>\n",
       "    <tr>\n",
       "      <th>205096</th>\n",
       "      <td>100654</td>\n",
       "      <td>2011</td>\n",
       "      <td>M</td>\n",
       "      <td>W</td>\n",
       "      <td>1.0</td>\n",
       "      <td>1.0</td>\n",
       "      <td>14.3</td>\n",
       "      <td>14.3</td>\n",
       "    </tr>\n",
       "    <tr>\n",
       "      <th>205099</th>\n",
       "      <td>100654</td>\n",
       "      <td>2011</td>\n",
       "      <td>M</td>\n",
       "      <td>B</td>\n",
       "      <td>25.0</td>\n",
       "      <td>127.0</td>\n",
       "      <td>5.0</td>\n",
       "      <td>25.4</td>\n",
       "    </tr>\n",
       "    <tr>\n",
       "      <th>205102</th>\n",
       "      <td>100654</td>\n",
       "      <td>2011</td>\n",
       "      <td>M</td>\n",
       "      <td>H</td>\n",
       "      <td>0.0</td>\n",
       "      <td>1.0</td>\n",
       "      <td>0.0</td>\n",
       "      <td>33.3</td>\n",
       "    </tr>\n",
       "    <tr>\n",
       "      <th>205105</th>\n",
       "      <td>100654</td>\n",
       "      <td>2011</td>\n",
       "      <td>M</td>\n",
       "      <td>Ai</td>\n",
       "      <td>0.0</td>\n",
       "      <td>0.0</td>\n",
       "      <td>0.0</td>\n",
       "      <td>0.0</td>\n",
       "    </tr>\n",
       "    <tr>\n",
       "      <th>...</th>\n",
       "      <td>...</td>\n",
       "      <td>...</td>\n",
       "      <td>...</td>\n",
       "      <td>...</td>\n",
       "      <td>...</td>\n",
       "      <td>...</td>\n",
       "      <td>...</td>\n",
       "      <td>...</td>\n",
       "    </tr>\n",
       "    <tr>\n",
       "      <th>331348</th>\n",
       "      <td>475291</td>\n",
       "      <td>2011</td>\n",
       "      <td>M</td>\n",
       "      <td>W</td>\n",
       "      <td>2.0</td>\n",
       "      <td>3.0</td>\n",
       "      <td>25.0</td>\n",
       "      <td>37.5</td>\n",
       "    </tr>\n",
       "    <tr>\n",
       "      <th>331351</th>\n",
       "      <td>475291</td>\n",
       "      <td>2011</td>\n",
       "      <td>M</td>\n",
       "      <td>B</td>\n",
       "      <td>1.0</td>\n",
       "      <td>1.0</td>\n",
       "      <td>20.0</td>\n",
       "      <td>20.0</td>\n",
       "    </tr>\n",
       "    <tr>\n",
       "      <th>331354</th>\n",
       "      <td>475291</td>\n",
       "      <td>2011</td>\n",
       "      <td>M</td>\n",
       "      <td>H</td>\n",
       "      <td>0.0</td>\n",
       "      <td>0.0</td>\n",
       "      <td>0.0</td>\n",
       "      <td>0.0</td>\n",
       "    </tr>\n",
       "    <tr>\n",
       "      <th>331357</th>\n",
       "      <td>475291</td>\n",
       "      <td>2011</td>\n",
       "      <td>M</td>\n",
       "      <td>Ai</td>\n",
       "      <td>0.0</td>\n",
       "      <td>0.0</td>\n",
       "      <td>0.0</td>\n",
       "      <td>0.0</td>\n",
       "    </tr>\n",
       "    <tr>\n",
       "      <th>331360</th>\n",
       "      <td>475291</td>\n",
       "      <td>2011</td>\n",
       "      <td>M</td>\n",
       "      <td>A</td>\n",
       "      <td>0.0</td>\n",
       "      <td>0.0</td>\n",
       "      <td>0.0</td>\n",
       "      <td>0.0</td>\n",
       "    </tr>\n",
       "  </tbody>\n",
       "</table>\n",
       "<p>9182 rows × 8 columns</p>\n",
       "</div>"
      ],
      "text/plain": [
       "        unitid  year gender race  grad_100  grad_150  grad_100_rate  \\\n",
       "205093  100654  2011      M    X      27.0     130.0            5.2   \n",
       "205096  100654  2011      M    W       1.0       1.0           14.3   \n",
       "205099  100654  2011      M    B      25.0     127.0            5.0   \n",
       "205102  100654  2011      M    H       0.0       1.0            0.0   \n",
       "205105  100654  2011      M   Ai       0.0       0.0            0.0   \n",
       "...        ...   ...    ...  ...       ...       ...            ...   \n",
       "331348  475291  2011      M    W       2.0       3.0           25.0   \n",
       "331351  475291  2011      M    B       1.0       1.0           20.0   \n",
       "331354  475291  2011      M    H       0.0       0.0            0.0   \n",
       "331357  475291  2011      M   Ai       0.0       0.0            0.0   \n",
       "331360  475291  2011      M    A       0.0       0.0            0.0   \n",
       "\n",
       "        grad_150_rate  \n",
       "205093           25.2  \n",
       "205096           14.3  \n",
       "205099           25.4  \n",
       "205102           33.3  \n",
       "205105            0.0  \n",
       "...               ...  \n",
       "331348           37.5  \n",
       "331351           20.0  \n",
       "331354            0.0  \n",
       "331357            0.0  \n",
       "331360            0.0  \n",
       "\n",
       "[9182 rows x 8 columns]"
      ]
     },
     "execution_count": 51,
     "metadata": {},
     "output_type": "execute_result"
    }
   ],
   "source": [
    "df_2011_m = df_2011[df_2011['gender'] == 'M']\n",
    "df_2011_m"
   ]
  },
  {
   "cell_type": "code",
   "execution_count": 52,
   "metadata": {},
   "outputs": [
    {
     "data": {
      "text/html": [
       "<div>\n",
       "<style scoped>\n",
       "    .dataframe tbody tr th:only-of-type {\n",
       "        vertical-align: middle;\n",
       "    }\n",
       "\n",
       "    .dataframe tbody tr th {\n",
       "        vertical-align: top;\n",
       "    }\n",
       "\n",
       "    .dataframe thead th {\n",
       "        text-align: right;\n",
       "    }\n",
       "</style>\n",
       "<table border=\"1\" class=\"dataframe\">\n",
       "  <thead>\n",
       "    <tr style=\"text-align: right;\">\n",
       "      <th></th>\n",
       "      <th>unitid</th>\n",
       "      <th>year</th>\n",
       "      <th>gender</th>\n",
       "      <th>race</th>\n",
       "      <th>grad_100</th>\n",
       "      <th>grad_150</th>\n",
       "      <th>grad_100_rate</th>\n",
       "      <th>grad_150_rate</th>\n",
       "    </tr>\n",
       "  </thead>\n",
       "  <tbody>\n",
       "    <tr>\n",
       "      <th>205094</th>\n",
       "      <td>100654</td>\n",
       "      <td>2011</td>\n",
       "      <td>F</td>\n",
       "      <td>X</td>\n",
       "      <td>89.0</td>\n",
       "      <td>215.0</td>\n",
       "      <td>15.6</td>\n",
       "      <td>37.6</td>\n",
       "    </tr>\n",
       "    <tr>\n",
       "      <th>205097</th>\n",
       "      <td>100654</td>\n",
       "      <td>2011</td>\n",
       "      <td>F</td>\n",
       "      <td>W</td>\n",
       "      <td>0.0</td>\n",
       "      <td>2.0</td>\n",
       "      <td>0.0</td>\n",
       "      <td>33.3</td>\n",
       "    </tr>\n",
       "    <tr>\n",
       "      <th>205100</th>\n",
       "      <td>100654</td>\n",
       "      <td>2011</td>\n",
       "      <td>F</td>\n",
       "      <td>B</td>\n",
       "      <td>88.0</td>\n",
       "      <td>209.0</td>\n",
       "      <td>15.8</td>\n",
       "      <td>37.5</td>\n",
       "    </tr>\n",
       "    <tr>\n",
       "      <th>205103</th>\n",
       "      <td>100654</td>\n",
       "      <td>2011</td>\n",
       "      <td>F</td>\n",
       "      <td>H</td>\n",
       "      <td>0.0</td>\n",
       "      <td>1.0</td>\n",
       "      <td>0.0</td>\n",
       "      <td>33.3</td>\n",
       "    </tr>\n",
       "    <tr>\n",
       "      <th>205106</th>\n",
       "      <td>100654</td>\n",
       "      <td>2011</td>\n",
       "      <td>F</td>\n",
       "      <td>Ai</td>\n",
       "      <td>0.0</td>\n",
       "      <td>0.0</td>\n",
       "      <td>0.0</td>\n",
       "      <td>0.0</td>\n",
       "    </tr>\n",
       "    <tr>\n",
       "      <th>...</th>\n",
       "      <td>...</td>\n",
       "      <td>...</td>\n",
       "      <td>...</td>\n",
       "      <td>...</td>\n",
       "      <td>...</td>\n",
       "      <td>...</td>\n",
       "      <td>...</td>\n",
       "      <td>...</td>\n",
       "    </tr>\n",
       "    <tr>\n",
       "      <th>331298</th>\n",
       "      <td>466921</td>\n",
       "      <td>2011</td>\n",
       "      <td>F</td>\n",
       "      <td>B</td>\n",
       "      <td>1.0</td>\n",
       "      <td>1.0</td>\n",
       "      <td>50.0</td>\n",
       "      <td>50.0</td>\n",
       "    </tr>\n",
       "    <tr>\n",
       "      <th>331346</th>\n",
       "      <td>475291</td>\n",
       "      <td>2011</td>\n",
       "      <td>F</td>\n",
       "      <td>X</td>\n",
       "      <td>2.0</td>\n",
       "      <td>2.0</td>\n",
       "      <td>40.0</td>\n",
       "      <td>40.0</td>\n",
       "    </tr>\n",
       "    <tr>\n",
       "      <th>331349</th>\n",
       "      <td>475291</td>\n",
       "      <td>2011</td>\n",
       "      <td>F</td>\n",
       "      <td>W</td>\n",
       "      <td>2.0</td>\n",
       "      <td>2.0</td>\n",
       "      <td>66.7</td>\n",
       "      <td>66.7</td>\n",
       "    </tr>\n",
       "    <tr>\n",
       "      <th>331352</th>\n",
       "      <td>475291</td>\n",
       "      <td>2011</td>\n",
       "      <td>F</td>\n",
       "      <td>B</td>\n",
       "      <td>0.0</td>\n",
       "      <td>0.0</td>\n",
       "      <td>0.0</td>\n",
       "      <td>0.0</td>\n",
       "    </tr>\n",
       "    <tr>\n",
       "      <th>331361</th>\n",
       "      <td>475291</td>\n",
       "      <td>2011</td>\n",
       "      <td>F</td>\n",
       "      <td>A</td>\n",
       "      <td>0.0</td>\n",
       "      <td>0.0</td>\n",
       "      <td>0.0</td>\n",
       "      <td>0.0</td>\n",
       "    </tr>\n",
       "  </tbody>\n",
       "</table>\n",
       "<p>9431 rows × 8 columns</p>\n",
       "</div>"
      ],
      "text/plain": [
       "        unitid  year gender race  grad_100  grad_150  grad_100_rate  \\\n",
       "205094  100654  2011      F    X      89.0     215.0           15.6   \n",
       "205097  100654  2011      F    W       0.0       2.0            0.0   \n",
       "205100  100654  2011      F    B      88.0     209.0           15.8   \n",
       "205103  100654  2011      F    H       0.0       1.0            0.0   \n",
       "205106  100654  2011      F   Ai       0.0       0.0            0.0   \n",
       "...        ...   ...    ...  ...       ...       ...            ...   \n",
       "331298  466921  2011      F    B       1.0       1.0           50.0   \n",
       "331346  475291  2011      F    X       2.0       2.0           40.0   \n",
       "331349  475291  2011      F    W       2.0       2.0           66.7   \n",
       "331352  475291  2011      F    B       0.0       0.0            0.0   \n",
       "331361  475291  2011      F    A       0.0       0.0            0.0   \n",
       "\n",
       "        grad_150_rate  \n",
       "205094           37.6  \n",
       "205097           33.3  \n",
       "205100           37.5  \n",
       "205103           33.3  \n",
       "205106            0.0  \n",
       "...               ...  \n",
       "331298           50.0  \n",
       "331346           40.0  \n",
       "331349           66.7  \n",
       "331352            0.0  \n",
       "331361            0.0  \n",
       "\n",
       "[9431 rows x 8 columns]"
      ]
     },
     "execution_count": 52,
     "metadata": {},
     "output_type": "execute_result"
    }
   ],
   "source": [
    "df_2011_f = df_2011[df_2011['gender'] == 'F']\n",
    "df_2011_f"
   ]
  },
  {
   "attachments": {},
   "cell_type": "markdown",
   "metadata": {},
   "source": [
    "## Plotting data"
   ]
  },
  {
   "cell_type": "code",
   "execution_count": 100,
   "metadata": {},
   "outputs": [
    {
     "data": {
      "text/plain": [
       "<matplotlib.legend.Legend at 0x36bf843a0>"
      ]
     },
     "execution_count": 100,
     "metadata": {},
     "output_type": "execute_result"
    },
    {
     "data": {
      "image/png": "[encoded data removed]",
      "text/plain": [
       "<Figure size 2000x500 with 1 Axes>"
      ]
     },
     "metadata": {},
     "output_type": "display_data"
    }
   ],
   "source": [
    "fig, ax = plt.subplots()\n",
    "col = df_clean['grad_100'] == 2013\n",
    "df_clean.groupby(['year', col]).size().unstack().plot(kind='line', title='Grad in time - year', ax=ax)\n",
    "ax.legend([])"
   ]
  },
  {
   "cell_type": "code",
   "execution_count": 101,
   "metadata": {},
   "outputs": [
    {
     "data": {
      "text/plain": [
       "<matplotlib.legend.Legend at 0x36bfc3730>"
      ]
     },
     "execution_count": 101,
     "metadata": {},
     "output_type": "execute_result"
    },
    {
     "data": {
      "image/png": "[encoded data removed]",
      "text/plain": [
       "<Figure size 2000x500 with 1 Axes>"
      ]
     },
     "metadata": {},
     "output_type": "display_data"
    }
   ],
   "source": [
    "fig, ax = plt.subplots()\n",
    "col = df_clean['grad_100'] == 2013\n",
    "df_clean.groupby(['year', col]).size().unstack().plot(kind='bar', title='Grad in time - year', ax=ax)\n",
    "ax.legend([])"
   ]
  },
  {
   "attachments": {},
   "cell_type": "markdown",
   "metadata": {},
   "source": [
    "### Gender and race distribution"
   ]
  },
  {
   "cell_type": "code",
   "execution_count": 53,
   "metadata": {},
   "outputs": [
    {
     "data": {
      "text/plain": [
       "<AxesSubplot:title={'center':'Race distribution'}, xlabel='gender'>"
      ]
     },
     "execution_count": 53,
     "metadata": {},
     "output_type": "execute_result"
    },
    {
     "data": {
      "image/png": "[encoded data removed]",
      "text/plain": [
       "<Figure size 2000x500 with 1 Axes>"
      ]
     },
     "metadata": {},
     "output_type": "display_data"
    }
   ],
   "source": [
    "gender_column = df_clean['race']\n",
    "df_clean.groupby([\"gender\", gender_column]).size().unstack().plot(kind='bar', title='Race distribution')"
   ]
  },
  {
   "cell_type": "code",
   "execution_count": 54,
   "metadata": {},
   "outputs": [
    {
     "data": {
      "text/plain": [
       "<AxesSubplot:title={'center':'Race distribution - female'}, xlabel='gender'>"
      ]
     },
     "execution_count": 54,
     "metadata": {},
     "output_type": "execute_result"
    },
    {
     "data": {
      "image/png": "[encoded data removed]",
      "text/plain": [
       "<Figure size 2000x500 with 1 Axes>"
      ]
     },
     "metadata": {},
     "output_type": "display_data"
    }
   ],
   "source": [
    "gender_column = df_clean_f['race']\n",
    "df_clean_f.groupby([\"gender\", gender_column]).size().unstack().plot(kind='bar', title='Race distribution - female')"
   ]
  },
  {
   "cell_type": "code",
   "execution_count": 55,
   "metadata": {},
   "outputs": [
    {
     "data": {
      "text/plain": [
       "<AxesSubplot:title={'center':'Race distribution - male'}, xlabel='gender'>"
      ]
     },
     "execution_count": 55,
     "metadata": {},
     "output_type": "execute_result"
    },
    {
     "data": {
      "image/png": "[encoded data removed]",
      "text/plain": [
       "<Figure size 2000x500 with 1 Axes>"
      ]
     },
     "metadata": {},
     "output_type": "display_data"
    }
   ],
   "source": [
    "gender_column = df_clean_m['race']\n",
    "df_clean_m.groupby([\"gender\", gender_column]).size().unstack().plot(kind='bar', title='Race distribution - male')"
   ]
  },
  {
   "attachments": {},
   "cell_type": "markdown",
   "metadata": {},
   "source": [
    "### Comparing gender and race for year 2011"
   ]
  },
  {
   "cell_type": "code",
   "execution_count": 60,
   "metadata": {},
   "outputs": [
    {
     "data": {
      "text/plain": [
       "<AxesSubplot:title={'center':'Race distribution'}, xlabel='gender'>"
      ]
     },
     "execution_count": 60,
     "metadata": {},
     "output_type": "execute_result"
    },
    {
     "data": {
      "image/png": "[encoded data removed]",
      "text/plain": [
       "<Figure size 2000x500 with 1 Axes>"
      ]
     },
     "metadata": {},
     "output_type": "display_data"
    }
   ],
   "source": [
    "gender_column = df_2011['race']\n",
    "df_2011.groupby([\"gender\", gender_column]).size().unstack().plot(kind='bar', title='Race distribution')"
   ]
  },
  {
   "cell_type": "code",
   "execution_count": 57,
   "metadata": {},
   "outputs": [
    {
     "data": {
      "text/plain": [
       "<AxesSubplot:title={'center':'Race distribution - female'}, xlabel='gender'>"
      ]
     },
     "execution_count": 57,
     "metadata": {},
     "output_type": "execute_result"
    },
    {
     "data": {
      "image/png": "[encoded data removed]",
      "text/plain": [
       "<Figure size 2000x500 with 1 Axes>"
      ]
     },
     "metadata": {},
     "output_type": "display_data"
    }
   ],
   "source": [
    "gender_column = df_2011_f['race']\n",
    "df_2011_f.groupby([\"gender\", gender_column]).size().unstack().plot(kind='bar', title='Race distribution - female')"
   ]
  },
  {
   "cell_type": "code",
   "execution_count": 58,
   "metadata": {},
   "outputs": [
    {
     "data": {
      "text/plain": [
       "<AxesSubplot:title={'center':'Race distribution - male'}, xlabel='gender'>"
      ]
     },
     "execution_count": 58,
     "metadata": {},
     "output_type": "execute_result"
    },
    {
     "data": {
      "image/png": "[encoded data removed]",
      "text/plain": [
       "<Figure size 2000x500 with 1 Axes>"
      ]
     },
     "metadata": {},
     "output_type": "display_data"
    }
   ],
   "source": [
    "gender_column = df_2011_m['race']\n",
    "df_2011_m.groupby([\"gender\", gender_column]).size().unstack().plot(kind='bar', title='Race distribution - male')"
   ]
  },
  {
   "cell_type": "code",
   "execution_count": null,
   "metadata": {},
   "outputs": [],
   "source": []
  }
 ],
 "metadata": {
  "kernelspec": {
   "display_name": "Python 3",
   "language": "python",
   "name": "python3"
  },
  "language_info": {
   "codemirror_mode": {
    "name": "ipython",
    "version": 3
   },
   "file_extension": ".py",
   "mimetype": "text/x-python",
   "name": "python",
   "nbconvert_exporter": "python",
   "pygments_lexer": "ipython3",
   "version": "3.10.6"
  },
  "orig_nbformat": 4,
  "vscode": {
   "interpreter": {
    "hash": "aee8b7b246df8f9039afb4144a1f6fd8d2ca17a180786b69acc140d282b71a49"
   }
  }
 },
 "nbformat": 4,
 "nbformat_minor": 2
}
