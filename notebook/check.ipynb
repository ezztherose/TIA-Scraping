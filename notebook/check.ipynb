{
 "cells": [
  {
   "cell_type": "code",
   "execution_count": 7,
   "metadata": {},
   "outputs": [],
   "source": [
    "import pandas as pd\n",
    "import numpy as np"
   ]
  },
  {
   "cell_type": "code",
   "execution_count": 11,
   "metadata": {},
   "outputs": [
    {
     "name": "stdout",
     "output_type": "stream",
     "text": [
      "file containing nan value: True\n",
      "2340\n"
     ]
    }
   ],
   "source": [
    "df1 = pd.read_csv('../data/plastic-pollution.csv')\n",
    "df2 = pd.read_csv('../data/armed-forces-personnel.csv')\n",
    "print(f\"file containing nan value: {df1.isnull().values.any()}\")\n",
    "print(f\"file containing nan value: {df2.isnull().values.any()}\")\n",
    "\n",
    "print(f'Data Fram 1: {len(df1)}')\n",
    "print(f'Data Fram 2: {len(df2)}')\n",
    "\n",
    "df1 = df1.dropna()\n",
    "df2 = df2.dropna()"
   ]
  },
  {
   "cell_type": "code",
   "execution_count": 9,
   "metadata": {},
   "outputs": [
    {
     "data": {
      "text/html": [
       "<div>\n",
       "<style scoped>\n",
       "    .dataframe tbody tr th:only-of-type {\n",
       "        vertical-align: middle;\n",
       "    }\n",
       "\n",
       "    .dataframe tbody tr th {\n",
       "        vertical-align: top;\n",
       "    }\n",
       "\n",
       "    .dataframe thead th {\n",
       "        text-align: right;\n",
       "    }\n",
       "</style>\n",
       "<table border=\"1\" class=\"dataframe\">\n",
       "  <thead>\n",
       "    <tr style=\"text-align: right;\">\n",
       "      <th></th>\n",
       "      <th>Waste exports</th>\n",
       "      <th>Waste imports</th>\n",
       "      <th>Waste re-exports</th>\n",
       "      <th>Waste re-imports</th>\n",
       "      <th>Waste net exports</th>\n",
       "      <th>Waste exports per capita</th>\n",
       "      <th>Waste imports per capita</th>\n",
       "      <th>Net exports per capita</th>\n",
       "      <th>Waste re-exports per capita</th>\n",
       "      <th>Waste re-imports per capita</th>\n",
       "      <th>Share global exports</th>\n",
       "      <th>Share global imports</th>\n",
       "      <th>Share global re-exports</th>\n",
       "      <th>Share global re-imports</th>\n",
       "      <th>Entity</th>\n",
       "      <th>Year</th>\n",
       "    </tr>\n",
       "  </thead>\n",
       "  <tbody>\n",
       "    <tr>\n",
       "      <th>3</th>\n",
       "      <td>37099.550</td>\n",
       "      <td>50016.0</td>\n",
       "      <td>1.0</td>\n",
       "      <td>20.0</td>\n",
       "      <td>8637.0</td>\n",
       "      <td>0.046398</td>\n",
       "      <td>0.062552</td>\n",
       "      <td>0.010802</td>\n",
       "      <td>0.000002</td>\n",
       "      <td>0.000026</td>\n",
       "      <td>0.280904</td>\n",
       "      <td>0.350548</td>\n",
       "      <td>0.000041</td>\n",
       "      <td>0.248512</td>\n",
       "      <td>Africa</td>\n",
       "      <td>2008</td>\n",
       "    </tr>\n",
       "    <tr>\n",
       "      <th>6</th>\n",
       "      <td>74789.043</td>\n",
       "      <td>39095.0</td>\n",
       "      <td>13.0</td>\n",
       "      <td>40.0</td>\n",
       "      <td>20290.0</td>\n",
       "      <td>0.089019</td>\n",
       "      <td>0.046533</td>\n",
       "      <td>0.024151</td>\n",
       "      <td>0.000015</td>\n",
       "      <td>0.000048</td>\n",
       "      <td>0.514802</td>\n",
       "      <td>0.241083</td>\n",
       "      <td>0.000489</td>\n",
       "      <td>4.288261</td>\n",
       "      <td>Africa</td>\n",
       "      <td>2011</td>\n",
       "    </tr>\n",
       "    <tr>\n",
       "      <th>7</th>\n",
       "      <td>96283.510</td>\n",
       "      <td>42108.0</td>\n",
       "      <td>7.0</td>\n",
       "      <td>55.0</td>\n",
       "      <td>60555.0</td>\n",
       "      <td>0.107117</td>\n",
       "      <td>0.046846</td>\n",
       "      <td>0.067369</td>\n",
       "      <td>0.000008</td>\n",
       "      <td>0.000061</td>\n",
       "      <td>0.649650</td>\n",
       "      <td>0.262942</td>\n",
       "      <td>0.000249</td>\n",
       "      <td>3.740578</td>\n",
       "      <td>Africa</td>\n",
       "      <td>2012</td>\n",
       "    </tr>\n",
       "    <tr>\n",
       "      <th>8</th>\n",
       "      <td>123063.385</td>\n",
       "      <td>50993.0</td>\n",
       "      <td>71.0</td>\n",
       "      <td>199.0</td>\n",
       "      <td>72861.0</td>\n",
       "      <td>0.133307</td>\n",
       "      <td>0.055239</td>\n",
       "      <td>0.078926</td>\n",
       "      <td>0.000077</td>\n",
       "      <td>0.000216</td>\n",
       "      <td>0.974883</td>\n",
       "      <td>0.340583</td>\n",
       "      <td>0.005356</td>\n",
       "      <td>14.005412</td>\n",
       "      <td>Africa</td>\n",
       "      <td>2013</td>\n",
       "    </tr>\n",
       "    <tr>\n",
       "      <th>9</th>\n",
       "      <td>137676.983</td>\n",
       "      <td>117330.0</td>\n",
       "      <td>5.0</td>\n",
       "      <td>30.0</td>\n",
       "      <td>20463.0</td>\n",
       "      <td>0.150196</td>\n",
       "      <td>0.128000</td>\n",
       "      <td>0.022325</td>\n",
       "      <td>0.000005</td>\n",
       "      <td>0.000033</td>\n",
       "      <td>0.968568</td>\n",
       "      <td>0.769147</td>\n",
       "      <td>0.000168</td>\n",
       "      <td>1.447889</td>\n",
       "      <td>Africa</td>\n",
       "      <td>2014</td>\n",
       "    </tr>\n",
       "  </tbody>\n",
       "</table>\n",
       "</div>"
      ],
      "text/plain": [
       "   Waste exports  Waste imports  Waste re-exports  Waste re-imports  \\\n",
       "3      37099.550        50016.0               1.0              20.0   \n",
       "6      74789.043        39095.0              13.0              40.0   \n",
       "7      96283.510        42108.0               7.0              55.0   \n",
       "8     123063.385        50993.0              71.0             199.0   \n",
       "9     137676.983       117330.0               5.0              30.0   \n",
       "\n",
       "   Waste net exports  Waste exports per capita  Waste imports per capita  \\\n",
       "3             8637.0                  0.046398                  0.062552   \n",
       "6            20290.0                  0.089019                  0.046533   \n",
       "7            60555.0                  0.107117                  0.046846   \n",
       "8            72861.0                  0.133307                  0.055239   \n",
       "9            20463.0                  0.150196                  0.128000   \n",
       "\n",
       "   Net exports per capita  Waste re-exports per capita  \\\n",
       "3                0.010802                     0.000002   \n",
       "6                0.024151                     0.000015   \n",
       "7                0.067369                     0.000008   \n",
       "8                0.078926                     0.000077   \n",
       "9                0.022325                     0.000005   \n",
       "\n",
       "   Waste re-imports per capita  Share global exports  Share global imports  \\\n",
       "3                     0.000026              0.280904              0.350548   \n",
       "6                     0.000048              0.514802              0.241083   \n",
       "7                     0.000061              0.649650              0.262942   \n",
       "8                     0.000216              0.974883              0.340583   \n",
       "9                     0.000033              0.968568              0.769147   \n",
       "\n",
       "   Share global re-exports  Share global re-imports  Entity  Year  \n",
       "3                 0.000041                 0.248512  Africa  2008  \n",
       "6                 0.000489                 4.288261  Africa  2011  \n",
       "7                 0.000249                 3.740578  Africa  2012  \n",
       "8                 0.005356                14.005412  Africa  2013  \n",
       "9                 0.000168                 1.447889  Africa  2014  "
      ]
     },
     "execution_count": 9,
     "metadata": {},
     "output_type": "execute_result"
    }
   ],
   "source": [
    "df1.head()"
   ]
  },
  {
   "cell_type": "code",
   "execution_count": null,
   "metadata": {},
   "outputs": [],
   "source": [
    "df2.head()"
   ]
  },
  {
   "cell_type": "code",
   "execution_count": 10,
   "metadata": {},
   "outputs": [
    {
     "name": "stdout",
     "output_type": "stream",
     "text": [
      "file containing nan value: False\n",
      "170\n"
     ]
    }
   ],
   "source": [
    "print(f\"file containing nan value: {df1.isnull().values.any()}\")\n",
    "print(f\"file containing nan value: {df2.isnull().values.any()}\")\n",
    "\n",
    "\n",
    "print(f'Data Fram 1: {len(df1)}')\n",
    "print(f'Data Fram 1: {len(df2)}')\n"
   ]
  },
  {
   "cell_type": "code",
   "execution_count": null,
   "metadata": {},
   "outputs": [],
   "source": []
  }
 ],
 "metadata": {
  "kernelspec": {
   "display_name": "Python 3.10.6 64-bit",
   "language": "python",
   "name": "python3"
  },
  "language_info": {
   "codemirror_mode": {
    "name": "ipython",
    "version": 3
   },
   "file_extension": ".py",
   "mimetype": "text/x-python",
   "name": "python",
   "nbconvert_exporter": "python",
   "pygments_lexer": "ipython3",
   "version": "3.10.6"
  },
  "orig_nbformat": 4,
  "vscode": {
   "interpreter": {
    "hash": "aee8b7b246df8f9039afb4144a1f6fd8d2ca17a180786b69acc140d282b71a49"
   }
  }
 },
 "nbformat": 4,
 "nbformat_minor": 2
}
